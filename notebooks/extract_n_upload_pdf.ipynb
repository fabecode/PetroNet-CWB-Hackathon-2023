{
 "cells": [
  {
   "cell_type": "code",
   "execution_count": null,
   "metadata": {},
   "outputs": [],
   "source": [
    "#what is the current directory\n",
    "import os\n",
    "os.getcwd()"
   ]
  },
  {
   "cell_type": "code",
   "execution_count": 3,
   "metadata": {},
   "outputs": [],
   "source": [
    "#Extracts specified pages from a pdf file and saves it as a new pdf file\n",
    "from PyPDF2 import PdfReader, PdfWriter\n",
    "\n",
    "pdf_file_path = '..\\data\\original-data\\integrated_and_annual_reports\\PETRONAS-Integrated-Report-2020.pdf'\n",
    "file_base_name = pdf_file_path.split('original-data\\integrated_and_annual_reports\\\\')[1].replace('.pdf', '')\n",
    "\n",
    "pdf = PdfReader(pdf_file_path)\n",
    "\n",
    "pages = range(0,15)\n",
    "pdfWriter = PdfWriter()\n",
    "\n",
    "for page_num in pages:\n",
    "    pdfWriter.add_page(pdf.pages[page_num])\n",
    "\n",
    "new_pdf_file_path = f\"..\\data\\demo-data\\{file_base_name}.pdf\"\n",
    "\n",
    "with open(new_pdf_file_path.format(file_base_name), 'wb') as f:\n",
    "    pdfWriter.write(f)\n",
    "    f.close()"
   ]
  },
  {
   "cell_type": "code",
   "execution_count": null,
   "metadata": {},
   "outputs": [],
   "source": [
    "#Extracts specified pages from a pdf file and saves it as a new pdf file\n",
    "from PyPDF2 import PdfReader, PdfWriter\n",
    "\n",
    "def extract_specified_pages_from_pdf_in_folder(folder, numPages):\n",
    "    \"\"\"\n",
    "    Extracts specified pages from a pdf file and saves it as a new pdf file\n",
    "    \"\"\"\n",
    "    for file in os.listdir(f'..\\data\\original-data\\{folder}'):\n",
    "        #iterate through the files and enter them\n",
    "        if file.endswith('.pdf'):\n",
    "            #if the file is a pdf file\n",
    "            pdf_file_path = f'..\\data\\original-data\\{folder}\\{file}'\n",
    "            file_base_name = pdf_file_path.split(f'original-data{folder}\\\\')[1].replace('.pdf', '')\n",
    "\n",
    "            pdf = PdfReader(pdf_file_path)\n",
    "\n",
    "            pages = range(0,numPages)\n",
    "            pdfWriter = PdfWriter()\n",
    "\n",
    "            for page_num in pages:\n",
    "                pdfWriter.add_page(pdf.pages[page_num])\n",
    "\n",
    "            new_pdf_file_path = f\"..\\data\\demo-data\\{file_base_name}.pdf\"\n",
    "\n",
    "            with open(new_pdf_file_path.format(file_base_name), 'wb') as f:\n",
    "                pdfWriter.write(f)\n",
    "                f.close()\n",
    "\n",
    "\n",
    "for folder in os.listdir('..\\data\\original-data'):\n",
    "    #iterate through the folders and enter them\n",
    "    extract_specified_pages_from_pdf_in_folder(folder, 10)\n",
    "    if folder == 'integrated_and_annual_reports':\n",
    "        pass\n"
   ]
  },
  {
   "cell_type": "code",
   "execution_count": 3,
   "metadata": {},
   "outputs": [],
   "source": [
    "import os\n",
    "from azure.storage.blob import BlobServiceClient\n",
    "\n",
    "def upload_blob_file(blob_service_client: BlobServiceClient, container_name, reportType, file_path):\n",
    "    container_client = blob_service_client.get_container_client(container=container_name)\n",
    "    metadata = {\"reportType\": reportType}\n",
    "    with open(file=os.path.join(file_path), mode=\"rb\") as data:\n",
    "        container_client.upload_blob(name=\"sample-blob.pdf\", data=data, metadata=metadata, overwrite=True)\n",
    "\n",
    "cloudConnectionString = \"DefaultEndpointsProtocol=https;AccountName=cwbdocstorage;AccountKey=Os82sQtuHjZMK9Rc9kZNv8ub7Po6WQ/aHdmVw6iur1LwZW0OE8Fw9tOIebL4UP9FTuKWGCFftlER+AStZDPP3A==;EndpointSuffix=core.windows.net\"\n",
    "blob_service_client = BlobServiceClient.from_connection_string(cloudConnectionString)\n",
    "container_name = \"petronas-reports\"\n",
    "file_path = '..\\data\\demo-data\\PETRONAS-Integrated-Report-2020_0-15.pdf'\n",
    "reportType = 'Integrated and Annual Reports'\n",
    "upload_blob_file(blob_service_client, container_name, reportType, file_path)\n"
   ]
  }
 ],
 "metadata": {
  "kernelspec": {
   "display_name": ".venv",
   "language": "python",
   "name": "python3"
  },
  "language_info": {
   "codemirror_mode": {
    "name": "ipython",
    "version": 3
   },
   "file_extension": ".py",
   "mimetype": "text/x-python",
   "name": "python",
   "nbconvert_exporter": "python",
   "pygments_lexer": "ipython3",
   "version": "3.10.8"
  },
  "orig_nbformat": 4
 },
 "nbformat": 4,
 "nbformat_minor": 2
}
